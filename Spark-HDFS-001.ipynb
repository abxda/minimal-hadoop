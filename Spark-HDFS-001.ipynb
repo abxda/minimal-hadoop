{
 "cells": [
  {
   "cell_type": "code",
   "execution_count": null,
   "id": "aa500244-8a31-443e-a62b-fa8854e2cdd5",
   "metadata": {},
   "outputs": [],
   "source": [
    "import findspark\n",
    "findspark.init()\n",
    "from pyspark.sql import SparkSession\n",
    "from pyspark import SparkContext\n",
    "from pyspark import SparkConf\n",
    "spark = SparkSession. \\\n",
    "builder. \\\n",
    "appName('UNIR'). \\\n",
    "config(\"spark.executor.memory\", \"1g\"). \\\n",
    "config(\"spark.driver.memory\", \"2g\"). \\\n",
    "config('spark.dirver.maxResultSize', '1g'). \\\n",
    "getOrCreate()"
   ]
  },
  {
   "cell_type": "code",
   "execution_count": null,
   "id": "d0ee99a2-333e-4625-966b-90e312e4ca37",
   "metadata": {},
   "outputs": [],
   "source": [
    "df = spark.read.csv(\"hdfs://localhost:8020/data/openbeer/breweries/breweries.csv\", inferSchema=True, header=True)"
   ]
  },
  {
   "cell_type": "code",
   "execution_count": null,
   "id": "b7391ed4-b6ac-463b-9f8d-d09cf401360b",
   "metadata": {},
   "outputs": [],
   "source": [
    "df.show()"
   ]
  },
  {
   "cell_type": "code",
   "execution_count": null,
   "id": "e3295d57-2e55-450f-8c94-54a7040f67fb",
   "metadata": {},
   "outputs": [],
   "source": []
  }
 ],
 "metadata": {
  "kernelspec": {
   "display_name": "Python 3 (ipykernel)",
   "language": "python",
   "name": "python3"
  },
  "language_info": {
   "codemirror_mode": {
    "name": "ipython",
    "version": 3
   },
   "file_extension": ".py",
   "mimetype": "text/x-python",
   "name": "python",
   "nbconvert_exporter": "python",
   "pygments_lexer": "ipython3",
   "version": "3.9.12"
  }
 },
 "nbformat": 4,
 "nbformat_minor": 5
}
